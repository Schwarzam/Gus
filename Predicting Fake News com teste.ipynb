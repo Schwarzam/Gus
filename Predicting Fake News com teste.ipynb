{
  "nbformat": 4,
  "nbformat_minor": 0,
  "metadata": {
    "colab": {
      "name": "Untitled0.ipynb",
      "provenance": [],
      "mount_file_id": "1ZwgX8MXVqK5c7-uuvSzIQ2N3XtT-Ia-r",
      "authorship_tag": "ABX9TyNe0D24za7v17L5rzDgRWiC",
      "include_colab_link": true
    },
    "kernelspec": {
      "name": "python3",
      "display_name": "Python 3"
    }
  },
  "cells": [
    {
      "cell_type": "markdown",
      "metadata": {
        "id": "view-in-github",
        "colab_type": "text"
      },
      "source": [
        "<a href=\"https://colab.research.google.com/github/Schwarzam/Gus/blob/master/Predicting%20Fake%20News%20com%20teste.ipynb\" target=\"_parent\"><img src=\"https://colab.research.google.com/assets/colab-badge.svg\" alt=\"Open In Colab\"/></a>"
      ]
    },
    {
      "cell_type": "code",
      "metadata": {
        "id": "24LFghHiLTZf",
        "colab_type": "code",
        "outputId": "38fead5a-5c13-418f-bf13-b064f7e073cf",
        "colab": {
          "base_uri": "https://localhost:8080/",
          "height": 88
        }
      },
      "source": [
        "import pandas as pd \n",
        "import numpy as np \n",
        "import matplotlib.pyplot as plt\n",
        "import seaborn as sns\n",
        "\n",
        "from google.colab import drive\n",
        "drive.mount('/content/drive')"
      ],
      "execution_count": 1,
      "outputs": [
        {
          "output_type": "stream",
          "text": [
            "Drive already mounted at /content/drive; to attempt to forcibly remount, call drive.mount(\"/content/drive\", force_remount=True).\n"
          ],
          "name": "stdout"
        },
        {
          "output_type": "stream",
          "text": [
            "/usr/local/lib/python3.6/dist-packages/statsmodels/tools/_testing.py:19: FutureWarning: pandas.util.testing is deprecated. Use the functions in the public API at pandas.testing instead.\n",
            "  import pandas.util.testing as tm\n"
          ],
          "name": "stderr"
        }
      ]
    },
    {
      "cell_type": "code",
      "metadata": {
        "id": "aQw0vY1nLf95",
        "colab_type": "code",
        "colab": {}
      },
      "source": [
        "true = pd.read_csv('/content/drive/My Drive/Projeto /fake-and-real-news-dataset/True.csv')"
      ],
      "execution_count": 0,
      "outputs": []
    },
    {
      "cell_type": "code",
      "metadata": {
        "id": "09Z1URTzFaqc",
        "colab_type": "code",
        "colab": {}
      },
      "source": [
        "fake = pd.read_csv('/content/drive/My Drive/Projeto /fake-and-real-news-dataset/Fake.csv')"
      ],
      "execution_count": 0,
      "outputs": []
    },
    {
      "cell_type": "code",
      "metadata": {
        "id": "xCPJtG7EOQj6",
        "colab_type": "code",
        "colab": {}
      },
      "source": [
        "Data_train = pd.read_csv('/content/drive/My Drive/Projeto /fake-news/train.csv')"
      ],
      "execution_count": 0,
      "outputs": []
    },
    {
      "cell_type": "code",
      "metadata": {
        "id": "P9aO24GuIgEZ",
        "colab_type": "code",
        "colab": {
          "base_uri": "https://localhost:8080/",
          "height": 68
        },
        "outputId": "f92dd437-6c7b-4278-c2d1-c50fa832777e"
      },
      "source": [
        "true['subject'].value_counts()"
      ],
      "execution_count": 5,
      "outputs": [
        {
          "output_type": "execute_result",
          "data": {
            "text/plain": [
              "politicsNews    11272\n",
              "worldnews       10145\n",
              "Name: subject, dtype: int64"
            ]
          },
          "metadata": {
            "tags": []
          },
          "execution_count": 5
        }
      ]
    },
    {
      "cell_type": "code",
      "metadata": {
        "id": "N4ETeW1fFipJ",
        "colab_type": "code",
        "outputId": "f46df283-7dec-4dde-910f-6f213609b7b0",
        "colab": {
          "base_uri": "https://localhost:8080/",
          "height": 34
        }
      },
      "source": [
        "len(list(fake['title']))"
      ],
      "execution_count": 6,
      "outputs": [
        {
          "output_type": "execute_result",
          "data": {
            "text/plain": [
              "23481"
            ]
          },
          "metadata": {
            "tags": []
          },
          "execution_count": 6
        }
      ]
    },
    {
      "cell_type": "code",
      "metadata": {
        "id": "QmOgLNVPQDBz",
        "colab_type": "code",
        "outputId": "39b9db98-58c8-48f6-94b5-e47f43fe5162",
        "colab": {
          "base_uri": "https://localhost:8080/",
          "height": 34
        }
      },
      "source": [
        "len(list(true['date']))"
      ],
      "execution_count": 7,
      "outputs": [
        {
          "output_type": "execute_result",
          "data": {
            "text/plain": [
              "21417"
            ]
          },
          "metadata": {
            "tags": []
          },
          "execution_count": 7
        }
      ]
    },
    {
      "cell_type": "code",
      "metadata": {
        "id": "z4BFZOWOIwaE",
        "colab_type": "code",
        "colab": {}
      },
      "source": [
        "Ttext = (true['text'])\n",
        "Ftext = (fake['text'])\n",
        "Ttit = (true['title'])\n",
        "Ftit = (fake['title'])"
      ],
      "execution_count": 0,
      "outputs": []
    },
    {
      "cell_type": "code",
      "metadata": {
        "id": "1pk4HquxZa8x",
        "colab_type": "code",
        "outputId": "f1d8cf3d-bcf8-4493-d373-03b4923163ca",
        "colab": {
          "base_uri": "https://localhost:8080/",
          "height": 34
        }
      },
      "source": [
        "#hot encoding text\n",
        "from keras.preprocessing.text import Tokenizer\n",
        "tokenizer = Tokenizer(num_words=500)\n",
        "tokenizer.fit_on_texts(Ttext)\n",
        "\n",
        "Ttext = tokenizer.texts_to_matrix(Ttext, mode='binary')\n",
        "\n",
        "tokenizer = Tokenizer(num_words=500)\n",
        "tokenizer.fit_on_texts(Ftext)\n",
        "\n",
        "Ftext = tokenizer.texts_to_matrix(Ftext, mode='binary')\n",
        "\n",
        "tokenizer = Tokenizer(num_words=500)\n",
        "tokenizer.fit_on_texts(Ttit)\n",
        "\n",
        "Ttit = tokenizer.texts_to_matrix(Ttit, mode='binary')\n",
        "\n",
        "tokenizer = Tokenizer(num_words=500)\n",
        "tokenizer.fit_on_texts(Ftit)\n",
        "\n",
        "Ftit = tokenizer.texts_to_matrix(Ftit, mode='binary')"
      ],
      "execution_count": 9,
      "outputs": [
        {
          "output_type": "stream",
          "text": [
            "Using TensorFlow backend.\n"
          ],
          "name": "stderr"
        }
      ]
    },
    {
      "cell_type": "code",
      "metadata": {
        "id": "8aubJp1FZhBm",
        "colab_type": "code",
        "colab": {}
      },
      "source": [
        "#1 for True and 0 for Fake\n",
        "T = np.ones(21417,)\n",
        "F = np.zeros(23481,)"
      ],
      "execution_count": 0,
      "outputs": []
    },
    {
      "cell_type": "code",
      "metadata": {
        "id": "V-pARg2Cc4Kk",
        "colab_type": "code",
        "colab": {}
      },
      "source": [
        "Conc = np.concatenate((T, F))\n",
        "del T\n",
        "del F"
      ],
      "execution_count": 0,
      "outputs": []
    },
    {
      "cell_type": "code",
      "metadata": {
        "id": "ooYhHlx9dRlT",
        "colab_type": "code",
        "colab": {}
      },
      "source": [
        "Cseq = np.concatenate((Ttext, Ftext))\n",
        "Ctit = np.concatenate((Ttit, Ftit))\n",
        "del Ttext\n",
        "del Ftext\n",
        "del Ttit\n",
        "del Ftit\n",
        "CC = np.concatenate((Cseq, Ctit),axis=1)"
      ],
      "execution_count": 0,
      "outputs": []
    },
    {
      "cell_type": "code",
      "metadata": {
        "id": "Oq8E5wQLh_kx",
        "colab_type": "code",
        "colab": {}
      },
      "source": [
        "X_train = CC[7000:37000]\n",
        "y_train = Conc[7000:37000]"
      ],
      "execution_count": 0,
      "outputs": []
    },
    {
      "cell_type": "code",
      "metadata": {
        "id": "YY7Ww4B8i-aV",
        "colab_type": "code",
        "colab": {}
      },
      "source": [
        "x_val = np.concatenate((CC[0:6999],CC[37000:44898]))\n",
        "y_val = np.concatenate((Conc[0:6999],Conc[37000:44898]))"
      ],
      "execution_count": 0,
      "outputs": []
    },
    {
      "cell_type": "code",
      "metadata": {
        "id": "YFy3Xyg2kMNq",
        "colab_type": "code",
        "colab": {}
      },
      "source": [
        "from keras import models\n",
        "from keras import layers\n",
        "from keras import regularizers\n",
        "\n",
        "model = models.Sequential()\n",
        "#model.add(layers.Dense(16,kernel_regularizer = regularizers.l2(0.01), activation='relu'))\n",
        "#model.add(layers.Dense(16,kernel_regularizer = regularizers.l2(0.01), activation='relu'))\n",
        "model.add(layers.Dense(512, activation='relu'))\n",
        "model.add(layers.Dropout(0.5))\n",
        "model.add(layers.Dense(512, activation='relu'))\n",
        "model.add(layers.Dropout(0.5))\n",
        "#model.add(layers.Dense(16, activation='elu'))\n",
        "model.add(layers.Dense(1, activation='sigmoid'))"
      ],
      "execution_count": 0,
      "outputs": []
    },
    {
      "cell_type": "code",
      "metadata": {
        "id": "j-AAic2CkNdr",
        "colab_type": "code",
        "outputId": "4970a7c9-6866-446a-ef01-6786626d7a88",
        "colab": {
          "base_uri": "https://localhost:8080/",
          "height": 374
        }
      },
      "source": [
        "from keras import optimizers\n",
        "model.compile(optimizer=optimizers.RMSprop(lr=0.00085),\n",
        "              loss='binary_crossentropy',\n",
        "              metrics=['acc'])\n",
        "history = model.fit(X_train,\n",
        "                    y_train,\n",
        "                    epochs=10,\n",
        "                    batch_size=512,\n",
        "                    validation_data=(x_val, y_val))"
      ],
      "execution_count": 16,
      "outputs": [
        {
          "output_type": "stream",
          "text": [
            "Train on 30000 samples, validate on 14897 samples\n",
            "Epoch 1/10\n",
            "30000/30000 [==============================] - 4s 118us/step - loss: 0.3220 - acc: 0.8586 - val_loss: 0.6608 - val_acc: 0.7430\n",
            "Epoch 2/10\n",
            "30000/30000 [==============================] - 3s 115us/step - loss: 0.1100 - acc: 0.9597 - val_loss: 0.4081 - val_acc: 0.8757\n",
            "Epoch 3/10\n",
            "30000/30000 [==============================] - 3s 113us/step - loss: 0.0494 - acc: 0.9825 - val_loss: 0.5479 - val_acc: 0.8513\n",
            "Epoch 4/10\n",
            "30000/30000 [==============================] - 3s 113us/step - loss: 0.0256 - acc: 0.9913 - val_loss: 0.3852 - val_acc: 0.9176\n",
            "Epoch 5/10\n",
            "30000/30000 [==============================] - 3s 114us/step - loss: 0.0117 - acc: 0.9959 - val_loss: 0.4693 - val_acc: 0.9013\n",
            "Epoch 6/10\n",
            "30000/30000 [==============================] - 3s 112us/step - loss: 0.0048 - acc: 0.9982 - val_loss: 0.4313 - val_acc: 0.9276\n",
            "Epoch 7/10\n",
            "30000/30000 [==============================] - 3s 113us/step - loss: 0.0107 - acc: 0.9968 - val_loss: 0.4880 - val_acc: 0.9180\n",
            "Epoch 8/10\n",
            "30000/30000 [==============================] - 3s 114us/step - loss: 9.6691e-04 - acc: 0.9998 - val_loss: 0.6839 - val_acc: 0.8925\n",
            "Epoch 9/10\n",
            "30000/30000 [==============================] - 3s 113us/step - loss: 0.0013 - acc: 0.9995 - val_loss: 0.6243 - val_acc: 0.9201\n",
            "Epoch 10/10\n",
            "30000/30000 [==============================] - 3s 115us/step - loss: 4.9389e-04 - acc: 0.9997 - val_loss: 0.6529 - val_acc: 0.9248\n"
          ],
          "name": "stdout"
        }
      ]
    },
    {
      "cell_type": "code",
      "metadata": {
        "id": "NIpkX-EfkhgR",
        "colab_type": "code",
        "outputId": "3162135f-1077-4a80-b7a0-7489d9a4f7fe",
        "colab": {
          "base_uri": "https://localhost:8080/",
          "height": 296
        }
      },
      "source": [
        "histo = history.history\n",
        "loss_values = histo['loss']\n",
        "val_loss_values = histo['val_loss']\n",
        "\n",
        "epochs = range(1, len(histo['acc']) + 1)\n",
        "plt.plot(epochs, loss_values, 'bo', label='Training loss')\n",
        "plt.plot(epochs, val_loss_values, 'r', label='Validation loss')\n",
        "plt.xlabel('Epochs')\n",
        "plt.ylabel('Loss')\n",
        "plt.legend()\n",
        "\n",
        "plt.show"
      ],
      "execution_count": 17,
      "outputs": [
        {
          "output_type": "execute_result",
          "data": {
            "text/plain": [
              "<function matplotlib.pyplot.show>"
            ]
          },
          "metadata": {
            "tags": []
          },
          "execution_count": 17
        },
        {
          "output_type": "display_data",
          "data": {
            "image/png": "[encoded data removed]",
            "text/plain": [
              "<Figure size 432x288 with 1 Axes>"
            ]
          },
          "metadata": {
            "tags": [],
            "needs_background": "light"
          }
        }
      ]
    },
    {
      "cell_type": "code",
      "metadata": {
        "id": "FCkp02VLmWTn",
        "colab_type": "code",
        "outputId": "3967be3e-fd38-4d06-debd-92bca926ddab",
        "colab": {
          "base_uri": "https://localhost:8080/",
          "height": 296
        }
      },
      "source": [
        "plt.clf()\n",
        "acc_values = histo['acc']\n",
        "val_acc_values = histo['val_acc']\n",
        "\n",
        "plt.plot(epochs, acc_values, 'bo', label='Training acc')\n",
        "plt.plot(epochs, val_acc_values, 'r', label='Validation acc')\n",
        "plt.xlabel('Epochs')\n",
        "plt.ylabel('Loss')\n",
        "plt.legend()\n",
        "\n",
        "plt.show"
      ],
      "execution_count": 18,
      "outputs": [
        {
          "output_type": "execute_result",
          "data": {
            "text/plain": [
              "<function matplotlib.pyplot.show>"
            ]
          },
          "metadata": {
            "tags": []
          },
          "execution_count": 18
        },
        {
          "output_type": "display_data",
          "data": {
            "image/png": "[encoded data removed]",
            "text/plain": [
              "<Figure size 432x288 with 1 Axes>"
            ]
          },
          "metadata": {
            "tags": [],
            "needs_background": "light"
          }
        }
      ]
    },
    {
      "cell_type": "code",
      "metadata": {
        "id": "8vNvmfogOjH9",
        "colab_type": "code",
        "colab": {}
      },
      "source": [
        "DTt = np.concatenate((Data_train['text'][0:130],Data_train['text'][150:540]))\n",
        "DTt = np.asarray(DTt)\n",
        "DTitle = np.concatenate((Data_train['title'][0:130], Data_train['title'][150:540]))\n",
        "DTitle = np.asarray(DTt)"
      ],
      "execution_count": 0,
      "outputs": []
    },
    {
      "cell_type": "code",
      "metadata": {
        "id": "5MC-zGmGmcVq",
        "colab_type": "code",
        "colab": {}
      },
      "source": [
        "#hot encoding text\n",
        "tokenizer = Tokenizer(num_words=500)\n",
        "tokenizer.fit_on_texts(DTt)\n",
        "\n",
        "DTT = tokenizer.texts_to_matrix(DTt, mode='binary')\n",
        "\n",
        "tokenizer = Tokenizer(num_words=500)\n",
        "tokenizer.fit_on_texts(DTitle)\n",
        "\n",
        "DTtitle = tokenizer.texts_to_matrix(DTitle, mode='binary')"
      ],
      "execution_count": 0,
      "outputs": []
    },
    {
      "cell_type": "code",
      "metadata": {
        "id": "HAZfZi1CbBMq",
        "colab_type": "code",
        "colab": {}
      },
      "source": [
        "DT = np.concatenate([DTT, DTtitle], axis=1)"
      ],
      "execution_count": 0,
      "outputs": []
    },
    {
      "cell_type": "code",
      "metadata": {
        "id": "ijQ7V3h_QHdf",
        "colab_type": "code",
        "colab": {}
      },
      "source": [
        "label = np.concatenate((Data_train['label'][0:130],Data_train['label'][150:540]))"
      ],
      "execution_count": 0,
      "outputs": []
    },
    {
      "cell_type": "code",
      "metadata": {
        "id": "vZZBkPgraIyO",
        "colab_type": "code",
        "colab": {
          "base_uri": "https://localhost:8080/",
          "height": 51
        },
        "outputId": "d5276b2a-fe19-4c1e-8fca-3f5ab2688929"
      },
      "source": [
        "model.evaluate(DT, label)"
      ],
      "execution_count": 65,
      "outputs": [
        {
          "output_type": "stream",
          "text": [
            "520/520 [==============================] - 0s 106us/step\n"
          ],
          "name": "stdout"
        },
        {
          "output_type": "execute_result",
          "data": {
            "text/plain": [
              "[81.16574096679688, 0.5326923131942749]"
            ]
          },
          "metadata": {
            "tags": []
          },
          "execution_count": 65
        }
      ]
    },
    {
      "cell_type": "code",
      "metadata": {
        "id": "uLgRtMofahkk",
        "colab_type": "code",
        "colab": {}
      },
      "source": [
        ""
      ],
      "execution_count": 0,
      "outputs": []
    }
  ]
}