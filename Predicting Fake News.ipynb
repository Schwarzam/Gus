{
  "nbformat": 4,
  "nbformat_minor": 0,
  "metadata": {
    "colab": {
      "name": "Untitled0.ipynb",
      "provenance": [],
      "mount_file_id": "1ZwgX8MXVqK5c7-uuvSzIQ2N3XtT-Ia-r",
      "authorship_tag": "ABX9TyMGfYwIMzh5kaX8L/ihpp/X",
      "include_colab_link": true
    },
    "kernelspec": {
      "name": "python3",
      "display_name": "Python 3"
    }
  },
  "cells": [
    {
      "cell_type": "markdown",
      "metadata": {
        "id": "view-in-github",
        "colab_type": "text"
      },
      "source": [
        "<a href=\"https://colab.research.google.com/github/Schwarzam/Gus/blob/master/Predicting%20Fake%20News.ipynb\" target=\"_parent\"><img src=\"https://colab.research.google.com/assets/colab-badge.svg\" alt=\"Open In Colab\"/></a>"
      ]
    },
    {
      "cell_type": "code",
      "metadata": {
        "id": "24LFghHiLTZf",
        "colab_type": "code",
        "outputId": "269822ca-d92a-462a-e54e-265037c29cb4",
        "colab": {
          "base_uri": "https://localhost:8080/",
          "height": 156
        }
      },
      "source": [
        "import pandas as pd \n",
        "import numpy as np \n",
        "import matplotlib.pyplot as plt\n",
        "import seaborn as sns\n",
        "\n",
        "from google.colab import drive\n",
        "drive.mount('/content/drive')"
      ],
      "execution_count": 1,
      "outputs": [
        {
          "output_type": "stream",
          "text": [
            "/usr/local/lib/python3.6/dist-packages/statsmodels/tools/_testing.py:19: FutureWarning: pandas.util.testing is deprecated. Use the functions in the public API at pandas.testing instead.\n",
            "  import pandas.util.testing as tm\n"
          ],
          "name": "stderr"
        },
        {
          "output_type": "stream",
          "text": [
            "Go to this URL in a browser: https://accounts.google.com/o/oauth2/auth?client_id=947318989803-6bn6qk8qdgf4n4g3pfee6491hc0brc4i.apps.googleusercontent.com&redirect_uri=urn%3aietf%3awg%3aoauth%3a2.0%3aoob&response_type=code&scope=email%20https%3a%2f%2fwww.googleapis.com%2fauth%2fdocs.test%20https%3a%2f%2fwww.googleapis.com%2fauth%2fdrive%20https%3a%2f%2fwww.googleapis.com%2fauth%2fdrive.photos.readonly%20https%3a%2f%2fwww.googleapis.com%2fauth%2fpeopleapi.readonly\n",
            "\n",
            "Enter your authorization code:\n",
            "··········\n",
            "Mounted at /content/drive\n"
          ],
          "name": "stdout"
        }
      ]
    },
    {
      "cell_type": "code",
      "metadata": {
        "id": "aQw0vY1nLf95",
        "colab_type": "code",
        "colab": {}
      },
      "source": [
        "true = pd.read_csv('/content/drive/My Drive/Projeto /fake-and-real-news-dataset/True.csv')"
      ],
      "execution_count": 0,
      "outputs": []
    },
    {
      "cell_type": "code",
      "metadata": {
        "id": "09Z1URTzFaqc",
        "colab_type": "code",
        "colab": {}
      },
      "source": [
        "fake = pd.read_csv('/content/drive/My Drive/Projeto /fake-and-real-news-dataset/Fake.csv')"
      ],
      "execution_count": 0,
      "outputs": []
    },
    {
      "cell_type": "code",
      "metadata": {
        "id": "P9aO24GuIgEZ",
        "colab_type": "code",
        "colab": {
          "base_uri": "https://localhost:8080/",
          "height": 204
        },
        "outputId": "7478c6b8-c8b8-4f2c-81aa-f84aa00b947e"
      },
      "source": [
        "true.head()"
      ],
      "execution_count": 4,
      "outputs": [
        {
          "output_type": "execute_result",
          "data": {
            "text/html": [
              "<div>\n",
              "<style scoped>\n",
              "    .dataframe tbody tr th:only-of-type {\n",
              "        vertical-align: middle;\n",
              "    }\n",
              "\n",
              "    .dataframe tbody tr th {\n",
              "        vertical-align: top;\n",
              "    }\n",
              "\n",
              "    .dataframe thead th {\n",
              "        text-align: right;\n",
              "    }\n",
              "</style>\n",
              "<table border=\"1\" class=\"dataframe\">\n",
              "  <thead>\n",
              "    <tr style=\"text-align: right;\">\n",
              "      <th></th>\n",
              "      <th>title</th>\n",
              "      <th>text</th>\n",
              "      <th>subject</th>\n",
              "      <th>date</th>\n",
              "    </tr>\n",
              "  </thead>\n",
              "  <tbody>\n",
              "    <tr>\n",
              "      <th>0</th>\n",
              "      <td>As U.S. budget fight looms, Republicans flip t...</td>\n",
              "      <td>WASHINGTON (Reuters) - The head of a conservat...</td>\n",
              "      <td>politicsNews</td>\n",
              "      <td>December 31, 2017</td>\n",
              "    </tr>\n",
              "    <tr>\n",
              "      <th>1</th>\n",
              "      <td>U.S. military to accept transgender recruits o...</td>\n",
              "      <td>WASHINGTON (Reuters) - Transgender people will...</td>\n",
              "      <td>politicsNews</td>\n",
              "      <td>December 29, 2017</td>\n",
              "    </tr>\n",
              "    <tr>\n",
              "      <th>2</th>\n",
              "      <td>Senior U.S. Republican senator: 'Let Mr. Muell...</td>\n",
              "      <td>WASHINGTON (Reuters) - The special counsel inv...</td>\n",
              "      <td>politicsNews</td>\n",
              "      <td>December 31, 2017</td>\n",
              "    </tr>\n",
              "    <tr>\n",
              "      <th>3</th>\n",
              "      <td>FBI Russia probe helped by Australian diplomat...</td>\n",
              "      <td>WASHINGTON (Reuters) - Trump campaign adviser ...</td>\n",
              "      <td>politicsNews</td>\n",
              "      <td>December 30, 2017</td>\n",
              "    </tr>\n",
              "    <tr>\n",
              "      <th>4</th>\n",
              "      <td>Trump wants Postal Service to charge 'much mor...</td>\n",
              "      <td>SEATTLE/WASHINGTON (Reuters) - President Donal...</td>\n",
              "      <td>politicsNews</td>\n",
              "      <td>December 29, 2017</td>\n",
              "    </tr>\n",
              "  </tbody>\n",
              "</table>\n",
              "</div>"
            ],
            "text/plain": [
              "                                               title  ...                date\n",
              "0  As U.S. budget fight looms, Republicans flip t...  ...  December 31, 2017 \n",
              "1  U.S. military to accept transgender recruits o...  ...  December 29, 2017 \n",
              "2  Senior U.S. Republican senator: 'Let Mr. Muell...  ...  December 31, 2017 \n",
              "3  FBI Russia probe helped by Australian diplomat...  ...  December 30, 2017 \n",
              "4  Trump wants Postal Service to charge 'much mor...  ...  December 29, 2017 \n",
              "\n",
              "[5 rows x 4 columns]"
            ]
          },
          "metadata": {
            "tags": []
          },
          "execution_count": 4
        }
      ]
    },
    {
      "cell_type": "code",
      "metadata": {
        "id": "N4ETeW1fFipJ",
        "colab_type": "code",
        "outputId": "fb57cdfc-db44-44d4-9172-485d29bd063b",
        "colab": {
          "base_uri": "https://localhost:8080/",
          "height": 34
        }
      },
      "source": [
        "len(list(fake['title']))"
      ],
      "execution_count": 5,
      "outputs": [
        {
          "output_type": "execute_result",
          "data": {
            "text/plain": [
              "23481"
            ]
          },
          "metadata": {
            "tags": []
          },
          "execution_count": 5
        }
      ]
    },
    {
      "cell_type": "code",
      "metadata": {
        "id": "QmOgLNVPQDBz",
        "colab_type": "code",
        "outputId": "837e9859-fe71-4cf9-b70e-601469ecdca2",
        "colab": {
          "base_uri": "https://localhost:8080/",
          "height": 34
        }
      },
      "source": [
        "len(list(true['date']))"
      ],
      "execution_count": 6,
      "outputs": [
        {
          "output_type": "execute_result",
          "data": {
            "text/plain": [
              "21417"
            ]
          },
          "metadata": {
            "tags": []
          },
          "execution_count": 6
        }
      ]
    },
    {
      "cell_type": "code",
      "metadata": {
        "id": "z4BFZOWOIwaE",
        "colab_type": "code",
        "colab": {}
      },
      "source": [
        "Ttext = (true['text'])\n",
        "Ftext = (fake['text'])\n",
        "Ttit = (true['title'])\n",
        "Ftit = (fake['title'])"
      ],
      "execution_count": 0,
      "outputs": []
    },
    {
      "cell_type": "code",
      "metadata": {
        "id": "1pk4HquxZa8x",
        "colab_type": "code",
        "colab": {}
      },
      "source": [
        "#hot encoding text\n",
        "from keras.preprocessing.text import Tokenizer\n",
        "tokenizer = Tokenizer(num_words=500)\n",
        "tokenizer.fit_on_texts(Ttext)\n",
        "\n",
        "Ttext = tokenizer.texts_to_matrix(Ttext, mode='binary')\n",
        "\n",
        "tokenizer = Tokenizer(num_words=500)\n",
        "tokenizer.fit_on_texts(Ftext)\n",
        "\n",
        "Ftext = tokenizer.texts_to_matrix(Ftext, mode='binary')\n",
        "\n",
        "tokenizer = Tokenizer(num_words=500)\n",
        "tokenizer.fit_on_texts(Ttit)\n",
        "\n",
        "Ttit = tokenizer.texts_to_matrix(Ttit, mode='binary')\n",
        "\n",
        "tokenizer = Tokenizer(num_words=500)\n",
        "tokenizer.fit_on_texts(Ftit)\n",
        "\n",
        "Ftit = tokenizer.texts_to_matrix(Ftit, mode='binary')"
      ],
      "execution_count": 0,
      "outputs": []
    },
    {
      "cell_type": "code",
      "metadata": {
        "id": "8aubJp1FZhBm",
        "colab_type": "code",
        "colab": {}
      },
      "source": [
        "#1 for True and 0 for Fake\n",
        "T = np.ones(21417,)\n",
        "F = np.zeros(23481,)"
      ],
      "execution_count": 0,
      "outputs": []
    },
    {
      "cell_type": "code",
      "metadata": {
        "id": "V-pARg2Cc4Kk",
        "colab_type": "code",
        "colab": {}
      },
      "source": [
        "Conc = np.concatenate((T, F))\n",
        "del T\n",
        "del F"
      ],
      "execution_count": 0,
      "outputs": []
    },
    {
      "cell_type": "code",
      "metadata": {
        "id": "ooYhHlx9dRlT",
        "colab_type": "code",
        "colab": {}
      },
      "source": [
        "Cseq = np.concatenate((Ttext, Ftext))\n",
        "Ctit = np.concatenate((Ttit, Ftit))\n",
        "del Ttext\n",
        "del Ftext\n",
        "del Ttit\n",
        "del Ftit\n",
        "CC = np.concatenate((Cseq, Ctit),axis=1)"
      ],
      "execution_count": 0,
      "outputs": []
    },
    {
      "cell_type": "code",
      "metadata": {
        "id": "Oq8E5wQLh_kx",
        "colab_type": "code",
        "colab": {}
      },
      "source": [
        "X_train = CC[7000:37000]\n",
        "y_train = Conc[7000:37000]"
      ],
      "execution_count": 0,
      "outputs": []
    },
    {
      "cell_type": "code",
      "metadata": {
        "id": "YY7Ww4B8i-aV",
        "colab_type": "code",
        "colab": {}
      },
      "source": [
        "x_val = np.concatenate((CC[0:6999],CC[37000:44898]))\n",
        "y_val = np.concatenate((Conc[0:6999],Conc[37000:44898]))"
      ],
      "execution_count": 0,
      "outputs": []
    },
    {
      "cell_type": "code",
      "metadata": {
        "id": "YFy3Xyg2kMNq",
        "colab_type": "code",
        "colab": {}
      },
      "source": [
        "from keras import models\n",
        "from keras import layers\n",
        "from keras import regularizers\n",
        "\n",
        "model = models.Sequential()\n",
        "#model.add(layers.Dense(16,kernel_regularizer = regularizers.l2(0.01), activation='relu'))\n",
        "#model.add(layers.Dense(16,kernel_regularizer = regularizers.l2(0.01), activation='relu'))\n",
        "model.add(layers.Dense(512, activation='relu'))\n",
        "model.add(layers.Dropout(0.5))\n",
        "model.add(layers.Dense(512, activation='relu'))\n",
        "model.add(layers.Dropout(0.5))\n",
        "#model.add(layers.Dense(16, activation='elu'))\n",
        "model.add(layers.Dense(1, activation='sigmoid'))"
      ],
      "execution_count": 0,
      "outputs": []
    },
    {
      "cell_type": "code",
      "metadata": {
        "id": "j-AAic2CkNdr",
        "colab_type": "code",
        "outputId": "8a23a4af-461a-4150-83ca-383a20803047",
        "colab": {
          "base_uri": "https://localhost:8080/",
          "height": 374
        }
      },
      "source": [
        "from keras import optimizers\n",
        "model.compile(optimizer=optimizers.RMSprop(lr=0.00085),\n",
        "              loss='binary_crossentropy',\n",
        "              metrics=['acc'])\n",
        "history = model.fit(X_train,\n",
        "                    y_train,\n",
        "                    epochs=10,\n",
        "                    batch_size=512,\n",
        "                    validation_data=(x_val, y_val))"
      ],
      "execution_count": 27,
      "outputs": [
        {
          "output_type": "stream",
          "text": [
            "Train on 30000 samples, validate on 14897 samples\n",
            "Epoch 1/10\n",
            "30000/30000 [==============================] - 4s 117us/step - loss: 5.9893e-05 - acc: 1.0000 - val_loss: 0.9930 - val_acc: 0.9526\n",
            "Epoch 2/10\n",
            "30000/30000 [==============================] - 3s 112us/step - loss: 7.3513e-06 - acc: 1.0000 - val_loss: 0.9780 - val_acc: 0.9532\n",
            "Epoch 3/10\n",
            "30000/30000 [==============================] - 3s 112us/step - loss: 8.9972e-05 - acc: 1.0000 - val_loss: 0.9541 - val_acc: 0.9548\n",
            "Epoch 4/10\n",
            "30000/30000 [==============================] - 3s 113us/step - loss: 5.4834e-08 - acc: 1.0000 - val_loss: 1.0335 - val_acc: 0.9486\n",
            "Epoch 5/10\n",
            "30000/30000 [==============================] - 3s 112us/step - loss: 1.9151e-05 - acc: 1.0000 - val_loss: 1.0130 - val_acc: 0.9509\n",
            "Epoch 6/10\n",
            "30000/30000 [==============================] - 3s 113us/step - loss: 2.5883e-07 - acc: 1.0000 - val_loss: 0.9997 - val_acc: 0.9550\n",
            "Epoch 7/10\n",
            "30000/30000 [==============================] - 3s 112us/step - loss: 1.2517e-07 - acc: 1.0000 - val_loss: 1.0364 - val_acc: 0.9511\n",
            "Epoch 8/10\n",
            "30000/30000 [==============================] - 3s 111us/step - loss: 9.0583e-07 - acc: 1.0000 - val_loss: 1.0553 - val_acc: 0.9497\n",
            "Epoch 9/10\n",
            "30000/30000 [==============================] - 3s 112us/step - loss: 3.2960e-05 - acc: 1.0000 - val_loss: 1.0613 - val_acc: 0.9509\n",
            "Epoch 10/10\n",
            "30000/30000 [==============================] - 3s 111us/step - loss: 9.8583e-08 - acc: 1.0000 - val_loss: 1.0099 - val_acc: 0.9534\n"
          ],
          "name": "stdout"
        }
      ]
    },
    {
      "cell_type": "code",
      "metadata": {
        "id": "NIpkX-EfkhgR",
        "colab_type": "code",
        "outputId": "2f9e86a0-8b2b-426d-b8bc-40a9a4a6b786",
        "colab": {
          "base_uri": "https://localhost:8080/",
          "height": 296
        }
      },
      "source": [
        "histo = history.history\n",
        "loss_values = histo['loss']\n",
        "val_loss_values = histo['val_loss']\n",
        "\n",
        "epochs = range(1, len(histo['acc']) + 1)\n",
        "plt.plot(epochs, loss_values, 'bo', label='Training loss')\n",
        "plt.plot(epochs, val_loss_values, 'r', label='Validation loss')\n",
        "plt.xlabel('Epochs')\n",
        "plt.ylabel('Loss')\n",
        "plt.legend()\n",
        "\n",
        "plt.show"
      ],
      "execution_count": 23,
      "outputs": [
        {
          "output_type": "execute_result",
          "data": {
            "text/plain": [
              "<function matplotlib.pyplot.show>"
            ]
          },
          "metadata": {
            "tags": []
          },
          "execution_count": 23
        },
        {
          "output_type": "display_data",
          "data": {
            "image/png": "[encoded data removed]",
            "text/plain": [
              "<Figure size 432x288 with 1 Axes>"
            ]
          },
          "metadata": {
            "tags": [],
            "needs_background": "light"
          }
        }
      ]
    },
    {
      "cell_type": "code",
      "metadata": {
        "id": "FCkp02VLmWTn",
        "colab_type": "code",
        "outputId": "3b8e621e-2170-49ca-cde8-394a995c6a13",
        "colab": {
          "base_uri": "https://localhost:8080/",
          "height": 296
        }
      },
      "source": [
        "plt.clf()\n",
        "acc_values = histo['acc']\n",
        "val_acc_values = histo['val_acc']\n",
        "\n",
        "plt.plot(epochs, acc_values, 'bo', label='Training acc')\n",
        "plt.plot(epochs, val_acc_values, 'r', label='Validation acc')\n",
        "plt.xlabel('Epochs')\n",
        "plt.ylabel('Loss')\n",
        "plt.legend()\n",
        "\n",
        "plt.show"
      ],
      "execution_count": 24,
      "outputs": [
        {
          "output_type": "execute_result",
          "data": {
            "text/plain": [
              "<function matplotlib.pyplot.show>"
            ]
          },
          "metadata": {
            "tags": []
          },
          "execution_count": 24
        },
        {
          "output_type": "display_data",
          "data": {
            "image/png": "[encoded data removed]",
            "text/plain": [
              "<Figure size 432x288 with 1 Axes>"
            ]
          },
          "metadata": {
            "tags": [],
            "needs_background": "light"
          }
        }
      ]
    },
    {
      "cell_type": "code",
      "metadata": {
        "id": "5MC-zGmGmcVq",
        "colab_type": "code",
        "colab": {}
      },
      "source": [
        ""
      ],
      "execution_count": 0,
      "outputs": []
    }
  ]
}