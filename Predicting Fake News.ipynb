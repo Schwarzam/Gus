{
  "nbformat": 4,
  "nbformat_minor": 0,
  "metadata": {
    "colab": {
      "name": "Untitled0.ipynb",
      "provenance": [],
      "mount_file_id": "1ZwgX8MXVqK5c7-uuvSzIQ2N3XtT-Ia-r",
      "authorship_tag": "ABX9TyMtGeDE+ydbDO96lj/tZlxg",
      "include_colab_link": true
    },
    "kernelspec": {
      "name": "python3",
      "display_name": "Python 3"
    }
  },
  "cells": [
    {
      "cell_type": "markdown",
      "metadata": {
        "id": "view-in-github",
        "colab_type": "text"
      },
      "source": [
        "<a href=\"https://colab.research.google.com/github/Schwarzam/Gus/blob/master/Predicting%20Fake%20News.ipynb\" target=\"_parent\"><img src=\"https://colab.research.google.com/assets/colab-badge.svg\" alt=\"Open In Colab\"/></a>"
      ]
    },
    {
      "cell_type": "code",
      "metadata": {
        "id": "24LFghHiLTZf",
        "colab_type": "code",
        "colab": {
          "base_uri": "https://localhost:8080/",
          "height": 88
        },
        "outputId": "4a23d8fc-d2f7-4d5e-fa25-38b8dc92cd05"
      },
      "source": [
        "import pandas as pd \n",
        "import numpy as np \n",
        "import matplotlib.pyplot as plt\n",
        "import seaborn as sns\n",
        "\n",
        "from google.colab import drive\n",
        "drive.mount('/content/drive')"
      ],
      "execution_count": 1,
      "outputs": [
        {
          "output_type": "stream",
          "text": [
            "Drive already mounted at /content/drive; to attempt to forcibly remount, call drive.mount(\"/content/drive\", force_remount=True).\n"
          ],
          "name": "stdout"
        },
        {
          "output_type": "stream",
          "text": [
            "/usr/local/lib/python3.6/dist-packages/statsmodels/tools/_testing.py:19: FutureWarning: pandas.util.testing is deprecated. Use the functions in the public API at pandas.testing instead.\n",
            "  import pandas.util.testing as tm\n"
          ],
          "name": "stderr"
        }
      ]
    },
    {
      "cell_type": "code",
      "metadata": {
        "id": "aQw0vY1nLf95",
        "colab_type": "code",
        "colab": {}
      },
      "source": [
        "true = pd.read_csv('/content/drive/My Drive/Projeto /fake-and-real-news-dataset/True.csv')"
      ],
      "execution_count": 0,
      "outputs": []
    },
    {
      "cell_type": "code",
      "metadata": {
        "id": "09Z1URTzFaqc",
        "colab_type": "code",
        "colab": {}
      },
      "source": [
        "fake = pd.read_csv('/content/drive/My Drive/Projeto /fake-and-real-news-dataset/Fake.csv')"
      ],
      "execution_count": 0,
      "outputs": []
    },
    {
      "cell_type": "code",
      "metadata": {
        "id": "N4ETeW1fFipJ",
        "colab_type": "code",
        "colab": {
          "base_uri": "https://localhost:8080/",
          "height": 34
        },
        "outputId": "13e100a9-431b-4284-c1e0-e3229346ca6b"
      },
      "source": [
        "len(list(fake['title']))"
      ],
      "execution_count": 4,
      "outputs": [
        {
          "output_type": "execute_result",
          "data": {
            "text/plain": [
              "23481"
            ]
          },
          "metadata": {
            "tags": []
          },
          "execution_count": 4
        }
      ]
    },
    {
      "cell_type": "code",
      "metadata": {
        "id": "QmOgLNVPQDBz",
        "colab_type": "code",
        "colab": {
          "base_uri": "https://localhost:8080/",
          "height": 34
        },
        "outputId": "4952eb6c-742c-48c2-87b5-59222b6bcd87"
      },
      "source": [
        "len(list(true['date']))"
      ],
      "execution_count": 5,
      "outputs": [
        {
          "output_type": "execute_result",
          "data": {
            "text/plain": [
              "21417"
            ]
          },
          "metadata": {
            "tags": []
          },
          "execution_count": 5
        }
      ]
    },
    {
      "cell_type": "code",
      "metadata": {
        "id": "z4BFZOWOIwaE",
        "colab_type": "code",
        "colab": {}
      },
      "source": [
        "Ttext = (true['text'])\n",
        "Ftext = (fake['text'])\n",
        "Ttit = (true['title'])\n",
        "Ftit = (fake['title'])"
      ],
      "execution_count": 0,
      "outputs": []
    },
    {
      "cell_type": "code",
      "metadata": {
        "id": "1pk4HquxZa8x",
        "colab_type": "code",
        "colab": {
          "base_uri": "https://localhost:8080/",
          "height": 34
        },
        "outputId": "87d0f7dd-21dc-4328-b2bd-81c5f6fd134d"
      },
      "source": [
        "#hot encoding text\n",
        "from keras.preprocessing.text import Tokenizer\n",
        "tokenizer = Tokenizer(num_words=5000)\n",
        "tokenizer.fit_on_texts(Ttext)\n",
        "\n",
        "Ttext = tokenizer.texts_to_matrix(Ttext, mode='binary')\n",
        "\n",
        "tokenizer = Tokenizer(num_words=5000)\n",
        "tokenizer.fit_on_texts(Ftext)\n",
        "\n",
        "Ftext = tokenizer.texts_to_matrix(Ftext, mode='binary')\n",
        "\n",
        "#tokenizer = Tokenizer(num_words=5000)\n",
        "#tokenizer.fit_on_texts(Ttit)\n",
        "\n",
        "#Ttit = tokenizer.texts_to_matrix(Ttit, mode='binary')\n",
        "\n",
        "#tokenizer = Tokenizer(num_words=5000)\n",
        "#tokenizer.fit_on_texts(Ftit)\n",
        "\n",
        "#Ftit = tokenizer.texts_to_matrix(Ftit, mode='binary')"
      ],
      "execution_count": 7,
      "outputs": [
        {
          "output_type": "stream",
          "text": [
            "Using TensorFlow backend.\n"
          ],
          "name": "stderr"
        }
      ]
    },
    {
      "cell_type": "code",
      "metadata": {
        "id": "8aubJp1FZhBm",
        "colab_type": "code",
        "colab": {}
      },
      "source": [
        "#1 for True and 0 for Fake\n",
        "T = np.ones(21417,)\n",
        "F = np.zeros(23481,)"
      ],
      "execution_count": 0,
      "outputs": []
    },
    {
      "cell_type": "code",
      "metadata": {
        "id": "V-pARg2Cc4Kk",
        "colab_type": "code",
        "colab": {}
      },
      "source": [
        "Conc = np.concatenate((T, F))\n",
        "del T\n",
        "del F"
      ],
      "execution_count": 0,
      "outputs": []
    },
    {
      "cell_type": "code",
      "metadata": {
        "id": "ooYhHlx9dRlT",
        "colab_type": "code",
        "colab": {}
      },
      "source": [
        "Cseq = np.concatenate((Ttext, Ftext))\n",
        "del Ttext\n",
        "del Ftext"
      ],
      "execution_count": 0,
      "outputs": []
    },
    {
      "cell_type": "code",
      "metadata": {
        "id": "Oq8E5wQLh_kx",
        "colab_type": "code",
        "colab": {}
      },
      "source": [
        "X_train = Cseq[7000:37000]\n",
        "y_train = Conc[7000:37000]"
      ],
      "execution_count": 0,
      "outputs": []
    },
    {
      "cell_type": "code",
      "metadata": {
        "id": "YY7Ww4B8i-aV",
        "colab_type": "code",
        "colab": {}
      },
      "source": [
        "x_val = np.concatenate((Cseq[0:6999],Cseq[37000:44898]))\n",
        "y_val = np.concatenate((Conc[0:6999],Conc[37000:44898]))"
      ],
      "execution_count": 0,
      "outputs": []
    },
    {
      "cell_type": "code",
      "metadata": {
        "id": "YFy3Xyg2kMNq",
        "colab_type": "code",
        "colab": {}
      },
      "source": [
        "from keras import models\n",
        "from keras import layers\n",
        "from keras import regularizers\n",
        "\n",
        "model = models.Sequential()\n",
        "#model.add(layers.Dense(16,kernel_regularizer = regularizers.l2(0.01), activation='relu'))\n",
        "#model.add(layers.Dense(16,kernel_regularizer = regularizers.l2(0.01), activation='relu'))\n",
        "model.add(layers.Dense(512, activation='relu'))\n",
        "model.add(layers.Dropout(0.5))\n",
        "model.add(layers.Dense(512, activation='relu'))\n",
        "model.add(layers.Dropout(0.5))\n",
        "#model.add(layers.Dense(16, activation='elu'))\n",
        "model.add(layers.Dense(1, activation='sigmoid'))"
      ],
      "execution_count": 0,
      "outputs": []
    },
    {
      "cell_type": "code",
      "metadata": {
        "id": "j-AAic2CkNdr",
        "colab_type": "code",
        "colab": {
          "base_uri": "https://localhost:8080/",
          "height": 374
        },
        "outputId": "b6cd1843-317b-45ba-842f-8513b8b39525"
      },
      "source": [
        "from keras import optimizers\n",
        "model.compile(optimizer=optimizers.RMSprop(lr=0.001),\n",
        "              loss='binary_crossentropy',\n",
        "              metrics=['acc'])\n",
        "history = model.fit(X_train,\n",
        "                    y_train,\n",
        "                    epochs=10,\n",
        "                    batch_size=256,\n",
        "                    validation_data=(x_val, y_val))"
      ],
      "execution_count": 32,
      "outputs": [
        {
          "output_type": "stream",
          "text": [
            "Train on 30000 samples, validate on 14897 samples\n",
            "Epoch 1/10\n",
            "30000/30000 [==============================] - 12s 390us/step - loss: 0.2146 - acc: 0.9136 - val_loss: 0.9190 - val_acc: 0.8320\n",
            "Epoch 2/10\n",
            "30000/30000 [==============================] - 11s 383us/step - loss: 0.0145 - acc: 0.9950 - val_loss: 1.5910 - val_acc: 0.8529\n",
            "Epoch 3/10\n",
            "30000/30000 [==============================] - 11s 383us/step - loss: 0.0035 - acc: 0.9987 - val_loss: 2.2707 - val_acc: 0.8619\n",
            "Epoch 4/10\n",
            "30000/30000 [==============================] - 11s 383us/step - loss: 0.0013 - acc: 0.9997 - val_loss: 2.5027 - val_acc: 0.8692\n",
            "Epoch 5/10\n",
            "30000/30000 [==============================] - 11s 383us/step - loss: 0.0011 - acc: 0.9997 - val_loss: 2.6657 - val_acc: 0.8771\n",
            "Epoch 6/10\n",
            "30000/30000 [==============================] - 11s 383us/step - loss: 0.0012 - acc: 0.9998 - val_loss: 3.7566 - val_acc: 0.8037\n",
            "Epoch 7/10\n",
            "30000/30000 [==============================] - 12s 387us/step - loss: 4.2724e-04 - acc: 1.0000 - val_loss: 3.1982 - val_acc: 0.8732\n",
            "Epoch 8/10\n",
            "30000/30000 [==============================] - 12s 385us/step - loss: 5.0357e-04 - acc: 0.9999 - val_loss: 3.3367 - val_acc: 0.8882\n",
            "Epoch 9/10\n",
            "30000/30000 [==============================] - 12s 387us/step - loss: 4.0223e-04 - acc: 1.0000 - val_loss: 3.1945 - val_acc: 0.8880\n",
            "Epoch 10/10\n",
            "30000/30000 [==============================] - 12s 383us/step - loss: 5.6514e-04 - acc: 0.9999 - val_loss: 3.3033 - val_acc: 0.8917\n"
          ],
          "name": "stdout"
        }
      ]
    },
    {
      "cell_type": "code",
      "metadata": {
        "id": "NIpkX-EfkhgR",
        "colab_type": "code",
        "colab": {
          "base_uri": "https://localhost:8080/",
          "height": 296
        },
        "outputId": "e496deff-b788-4cca-a5f0-077886ecb38a"
      },
      "source": [
        "histo = history.history\n",
        "loss_values = histo['loss']\n",
        "val_loss_values = histo['val_loss']\n",
        "\n",
        "epochs = range(1, len(histo['acc']) + 1)\n",
        "plt.plot(epochs, loss_values, 'bo', label='Training loss')\n",
        "plt.plot(epochs, val_loss_values, 'r', label='Validation loss')\n",
        "plt.xlabel('Epochs')\n",
        "plt.ylabel('Loss')\n",
        "plt.legend()\n",
        "\n",
        "plt.show"
      ],
      "execution_count": 33,
      "outputs": [
        {
          "output_type": "execute_result",
          "data": {
            "text/plain": [
              "<function matplotlib.pyplot.show>"
            ]
          },
          "metadata": {
            "tags": []
          },
          "execution_count": 33
        },
        {
          "output_type": "display_data",
          "data": {
            "image/png": "[encoded data removed]",
            "text/plain": [
              "<Figure size 432x288 with 1 Axes>"
            ]
          },
          "metadata": {
            "tags": [],
            "needs_background": "light"
          }
        }
      ]
    },
    {
      "cell_type": "code",
      "metadata": {
        "id": "FCkp02VLmWTn",
        "colab_type": "code",
        "colab": {
          "base_uri": "https://localhost:8080/",
          "height": 296
        },
        "outputId": "42f3091b-a173-45fe-9365-f72efd0e09cb"
      },
      "source": [
        "plt.clf()\n",
        "acc_values = histo['acc']\n",
        "val_acc_values = histo['val_acc']\n",
        "\n",
        "plt.plot(epochs, acc_values, 'bo', label='Training acc')\n",
        "plt.plot(epochs, val_acc_values, 'r', label='Validation acc')\n",
        "plt.xlabel('Epochs')\n",
        "plt.ylabel('Loss')\n",
        "plt.legend()\n",
        "\n",
        "plt.show"
      ],
      "execution_count": 34,
      "outputs": [
        {
          "output_type": "execute_result",
          "data": {
            "text/plain": [
              "<function matplotlib.pyplot.show>"
            ]
          },
          "metadata": {
            "tags": []
          },
          "execution_count": 34
        },
        {
          "output_type": "display_data",
          "data": {
            "image/png": "[encoded data removed]",
            "text/plain": [
              "<Figure size 432x288 with 1 Axes>"
            ]
          },
          "metadata": {
            "tags": [],
            "needs_background": "light"
          }
        }
      ]
    },
    {
      "cell_type": "code",
      "metadata": {
        "id": "5MC-zGmGmcVq",
        "colab_type": "code",
        "colab": {}
      },
      "source": [
        ""
      ],
      "execution_count": 0,
      "outputs": []
    }
  ]
}